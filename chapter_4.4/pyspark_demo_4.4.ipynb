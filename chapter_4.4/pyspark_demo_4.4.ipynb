{
 "cells": [
  {
   "cell_type": "markdown",
   "metadata": {},
   "source": [
    "# Replication of paper \"Econometrics at Scale - Spark Up Big Data in Economics\", Chapter 4.4 (B. Bluhm and J. Cutura)\n",
    "This notebook implements a distributed time series forecasting exercise in PySpark as described in more detail in the paper \"Econometrics at Scale - Spark Up Big Data in Economics\" by Benjamin Bluhm and Jannic Cutura."
   ]
  },
  {
   "cell_type": "markdown",
   "metadata": {},
   "source": [
    "## Create dictionary with config parameters"
   ]
  },
  {
   "cell_type": "code",
   "execution_count": 9,
   "metadata": {},
   "outputs": [],
   "source": [
    "import os\n",
    "\n",
    "# initialize dictionary with config parameters\n",
    "config = {}\n",
    "\n",
    "# Define working directory\n",
    "wdir = 's3://my-bucket/'\n",
    "\n",
    "# Define AWS S3 endpoint for your region\n",
    "config['s3_host'] = 's3.eu-central-1.amazonaws.com'\n",
    "\n",
    "# Define Path to store results\n",
    "config['path_training_data_csv'] = os.path.join(wdir, 'data/time_series/rawdata_small.csv')\n",
    "config['path_training_data_parquet'] = os.path.join(wdir, 'output/time_series/parquet/')\n",
    "config['path_forecasts'] = os.path.join(wdir, 'output/time_series/forecasts/')\n",
    "config['path_models'] = os.path.join(wdir, 'output/time_series/ models/')\n",
    "config['path_code'] = os.path.join(wdir, 'scripts/time_ series/')\n",
    "\n",
    "# Define series and evaluation lengths\n",
    "config['len_series'] = 1000\n",
    "config['len_eval'] = 50"
   ]
  },
  {
   "cell_type": "markdown",
   "metadata": {},
   "source": [
    "## Install necessary Python packages on all cluster nodes"
   ]
  },
  {
   "cell_type": "code",
   "execution_count": null,
   "metadata": {},
   "outputs": [],
   "source": [
    "sc.install_pypi_package(\"s3fs\")\n",
    "sc.install_pypi_package(\"joblib\")\n",
    "sc.install_pypi_package(\"s3io\")\n",
    "sc.install_pypi_package(\"pandas\")\n",
    "sc.install_pypi_package(\"fastparquet\")\n",
    "sc.install_pypi_package(\"statsmodels\")"
   ]
  },
  {
   "cell_type": "markdown",
   "metadata": {},
   "source": [
    "## Partition and save dataset to Parquet format\n",
    "In this step, we load the sample csv file into a Spark DataFrame, repartition the DataFrame by 'ID' column and save the data in Parquet file format"
   ]
  },
  {
   "cell_type": "code",
   "execution_count": 5,
   "metadata": {},
   "outputs": [
    {
     "data": {
      "application/vnd.jupyter.widget-view+json": {
       "model_id": "b8326470fe9243b48e48598c19f0ed4c",
       "version_major": 2,
       "version_minor": 0
      },
      "text/plain": [
       "VBox()"
      ]
     },
     "metadata": {},
     "output_type": "display_data"
    },
    {
     "data": {
      "application/vnd.jupyter.widget-view+json": {
       "model_id": "",
       "version_major": 2,
       "version_minor": 0
      },
      "text/plain": [
       "FloatProgress(value=0.0, bar_style='info', description='Progress:', layout=Layout(height='25px', width='50%'),…"
      ]
     },
     "metadata": {},
     "output_type": "display_data"
    }
   ],
   "source": [
    "df = spark.read.csv(config['path_training_data_csv'],header = True, inferSchema=True)\n",
    "\n",
    "df.repartition(\"ID\").write.option(\"compression\", \"gzip\").mode(\"overwrite\")\\\n",
    "    .partitionBy(\"ID\").parquet(config['path_training_data_parquet'])"
   ]
  },
  {
   "cell_type": "markdown",
   "metadata": {},
   "source": [
    "## Add Python module to Spark context for distributed execution"
   ]
  },
  {
   "cell_type": "code",
   "execution_count": 6,
   "metadata": {},
   "outputs": [
    {
     "data": {
      "application/vnd.jupyter.widget-view+json": {
       "model_id": "72aa750b50bc4688bfbcf7eef87c14b6",
       "version_major": 2,
       "version_minor": 0
      },
      "text/plain": [
       "VBox()"
      ]
     },
     "metadata": {},
     "output_type": "display_data"
    },
    {
     "data": {
      "application/vnd.jupyter.widget-view+json": {
       "model_id": "",
       "version_major": 2,
       "version_minor": 0
      },
      "text/plain": [
       "FloatProgress(value=0.0, bar_style='info', description='Progress:', layout=Layout(height='25px', width='50%'),…"
      ]
     },
     "metadata": {},
     "output_type": "display_data"
    }
   ],
   "source": [
    "spark.sparkContext.addPyFile(config['path_code'] + '/fit_model_and_forecast.py')"
   ]
  },
  {
   "cell_type": "markdown",
   "metadata": {},
   "source": [
    "## Perform model fitting and forecasting (distributed execution scheme)\n",
    "In this step, we run the forecasting exercise in a distributed fashion"
   ]
  },
  {
   "cell_type": "code",
   "execution_count": 7,
   "metadata": {},
   "outputs": [
    {
     "data": {
      "application/vnd.jupyter.widget-view+json": {
       "model_id": "8a5fa2aaf1e04075b73f23019f8615c4",
       "version_major": 2,
       "version_minor": 0
      },
      "text/plain": [
       "VBox()"
      ]
     },
     "metadata": {},
     "output_type": "display_data"
    },
    {
     "data": {
      "application/vnd.jupyter.widget-view+json": {
       "model_id": "",
       "version_major": 2,
       "version_minor": 0
      },
      "text/plain": [
       "FloatProgress(value=0.0, bar_style='info', description='Progress:', layout=Layout(height='25px', width='50%'),…"
      ]
     },
     "metadata": {},
     "output_type": "display_data"
    }
   ],
   "source": [
    "# Load time series data into Spark dataframe\n",
    "df = spark.read.parquet(config['path_training_data_parquet'])\n",
    "\n",
    "# Create RDD with dictinct IDs and repartition dataframe into 100 chunks\n",
    "time_series_ids = df.select(\"ID\").distinct().repartition(100).rdd\n",
    "\n",
    "# Function to import Python module on Spark executor for parallel forecasting\n",
    "def import_module_on_spark_executor(time_series_ids, config):\n",
    "    from fit_model_and_forecast import fit_model_and_forecast\n",
    "    return fit_model_and_forecast(time_series_ids, config, cloud=True)\n",
    "\n",
    "# Parallel model fitting and forecasting\n",
    "time_series_ids.foreach(lambda x: import_module_on_spark_executor(x, config))"
   ]
  }
 ],
 "metadata": {
  "kernelspec": {
   "display_name": "Python 3",
   "language": "python",
   "name": "python3"
  },
  "language_info": {
   "codemirror_mode": {
    "name": "ipython",
    "version": 3
   },
   "file_extension": ".py",
   "mimetype": "text/x-python",
   "name": "python",
   "nbconvert_exporter": "python",
   "pygments_lexer": "ipython3",
   "version": "3.7.4"
  }
 },
 "nbformat": 4,
 "nbformat_minor": 2
}
